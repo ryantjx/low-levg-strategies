{
 "cells": [
  {
   "cell_type": "markdown",
   "metadata": {},
   "source": [
    "# 2 Simulating Price and Funding Fees\n",
    "\n",
    "1. Compared to the volatility of the underlying, what is the likelihood that I will profit in this scenario? (Portfolio Size > 1)\n",
    "   1. How volatile should the underlying be to make a profit?\n",
    "   2. What is the likelihood that a leverage long position will make money?\n",
    "   3. How is Funding fees affected by movement in price?\n",
    "2. What is the expected amount that I will pay for cryptocurrencies? - screen through all possible tokens\n",
    "3. What is the difference between me opening a position on Hyperliquid vs Binance?\n",
    "   1. Notional\n",
    "   2. Percentage per hour \n",
    "4. What is the optimal platform?\n",
    "<!-- 7. How can I scale it to other platforms? -->\n",
    "\n",
    "## Assumptions\n",
    "- 2 Independent Random Distributions"
   ]
  }
 ],
 "metadata": {
  "language_info": {
   "name": "python"
  }
 },
 "nbformat": 4,
 "nbformat_minor": 2
}
